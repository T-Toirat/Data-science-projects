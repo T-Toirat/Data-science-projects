{
 "cells": [
  {
   "cell_type": "code",
   "execution_count": 6,
   "id": "e5bd0e75-db61-4bdd-a626-d2eedbbacc40",
   "metadata": {},
   "outputs": [
    {
     "name": "stderr",
     "output_type": "stream",
     "text": [
      "Device set to use cpu\n"
     ]
    },
    {
     "name": "stdout",
     "output_type": "stream",
     "text": [
      "                                                text     label predicted\n",
      "0                 I love this movie, it was amazing!  positive  POSITIVE\n",
      "1                This film was terrible, I hated it.  negative  NEGATIVE\n",
      "2  The plot was interesting and the characters we...  positive  POSITIVE\n",
      "3                   The food was cold and tasteless.  negative  NEGATIVE\n",
      "4  What a fantastic experience, I’ll come back ag...  positive  POSITIVE\n",
      "5                    It was boring and way too long.  negative  NEGATIVE\n"
     ]
    }
   ],
   "source": [
    "#import libraries\n",
    "import pandas as pd\n",
    "from transformers import pipeline\n",
    "\n",
    "#load dataset\n",
    "df=pd.read_csv(\"reviews.csv\")\n",
    "\n",
    "#load pipeline\n",
    "sentiment = pipeline(\"sentiment-analysis\", model=\"distilbert/distilbert-base-uncased-finetuned-sst-2-english\",\n",
    "                    framework=\"pt\", revision=\"main\" )\n",
    "\n",
    "#apply  pipelin\n",
    "df[\"predicted\"] = df[\"text\"].apply(lambda x: sentiment(x)[0][\"label\"])\n",
    "\n",
    "\n",
    "print(df)\n"
   ]
  },
  {
   "cell_type": "code",
   "execution_count": null,
   "id": "eb26ea79-628e-495e-a59d-476cda3623c0",
   "metadata": {},
   "outputs": [],
   "source": []
  }
 ],
 "metadata": {
  "kernelspec": {
   "display_name": "Python 3 (ipykernel)",
   "language": "python",
   "name": "python3"
  },
  "language_info": {
   "codemirror_mode": {
    "name": "ipython",
    "version": 3
   },
   "file_extension": ".py",
   "mimetype": "text/x-python",
   "name": "python",
   "nbconvert_exporter": "python",
   "pygments_lexer": "ipython3",
   "version": "3.11.3"
  }
 },
 "nbformat": 4,
 "nbformat_minor": 5
}
