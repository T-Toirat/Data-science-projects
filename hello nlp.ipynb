{
 "cells": [
  {
   "cell_type": "code",
   "execution_count": 6,
   "id": "9e926958-15ec-4448-85ef-b0611290b3f0",
   "metadata": {},
   "outputs": [
    {
     "name": "stderr",
     "output_type": "stream",
     "text": [
      "Device set to use cpu\n"
     ]
    },
    {
     "name": "stdout",
     "output_type": "stream",
     "text": [
      "Sentences: I'm super excited, I wrote the first chapter of my bookI love learning AI, it's so exciting!\n",
      "Results: {'label': 'POSITIVE', 'score': 0.9998403787612915}\n",
      "--------------------------------------------------\n",
      "Sentences: This is frustrating, nothing is working!\n",
      "Results: {'label': 'NEGATIVE', 'score': 0.9997598528862}\n",
      "--------------------------------------------------\n",
      "Sentences: The food was amazing and the service was great.\n",
      "Results: {'label': 'POSITIVE', 'score': 0.9998775720596313}\n",
      "--------------------------------------------------\n",
      "Sentences: I'm not sure how I feel about this project.\n",
      "Results: {'label': 'NEGATIVE', 'score': 0.9990690350532532}\n",
      "--------------------------------------------------\n",
      "Sentences: That movie was a complete waste of time.\n",
      "Results: {'label': 'NEGATIVE', 'score': 0.9998040795326233}\n",
      "--------------------------------------------------\n"
     ]
    },
    {
     "name": "stderr",
     "output_type": "stream",
     "text": [
      "Device set to use cpu\n"
     ]
    },
    {
     "name": "stdout",
     "output_type": "stream",
     "text": [
      "Original:  \n",
      "Artificial intelligence is transforming industries worldwide.,\n",
      "From healthcare to finance, AI systems are improving efficiency, \n",
      "reducing costs, and enabling new possibilities. \n",
      "However, challenges remain, including ethical concerns, \n",
      "bias in algorithms, and the need for transparent systems. \n",
      "Experts believe that while AI will not replace humans entirely, \n",
      "it will redefine the future of work.\n",
      "\n",
      "Summary:   Experts believe that while AI will not replace humans entirely, it will redefine the future of work . However, challenges remain, including ethical concerns, and the need for transparent systems .\n"
     ]
    },
    {
     "name": "stderr",
     "output_type": "stream",
     "text": [
      "Some weights of the model checkpoint at dslim/bert-base-NER were not used when initializing BertForTokenClassification: ['bert.pooler.dense.bias', 'bert.pooler.dense.weight']\n",
      "- This IS expected if you are initializing BertForTokenClassification from the checkpoint of a model trained on another task or with another architecture (e.g. initializing a BertForSequenceClassification model from a BertForPreTraining model).\n",
      "- This IS NOT expected if you are initializing BertForTokenClassification from the checkpoint of a model that you expect to be exactly identical (initializing a BertForSequenceClassification model from a BertForSequenceClassification model).\n",
      "Device set to use cpu\n"
     ]
    },
    {
     "name": "stdout",
     "output_type": "stream",
     "text": [
      "Sentence: Elon Musk founded SpaceX in California and also runs Tesla in the United States.\n",
      "Entities: [{'entity_group': 'PER', 'score': np.float32(0.5539135), 'word': 'El', 'start': 0, 'end': 2}, {'entity_group': 'ORG', 'score': np.float32(0.56198734), 'word': '##on', 'start': 2, 'end': 4}, {'entity_group': 'PER', 'score': np.float32(0.73221874), 'word': 'Musk', 'start': 5, 'end': 9}, {'entity_group': 'ORG', 'score': np.float32(0.9991567), 'word': 'SpaceX', 'start': 18, 'end': 24}, {'entity_group': 'LOC', 'score': np.float32(0.9997162), 'word': 'California', 'start': 28, 'end': 38}, {'entity_group': 'ORG', 'score': np.float32(0.9532619), 'word': 'Tesla', 'start': 53, 'end': 58}, {'entity_group': 'LOC', 'score': np.float32(0.999428), 'word': 'United States', 'start': 66, 'end': 79}]\n"
     ]
    }
   ],
   "source": [
    "#import tools\n",
    "from transformers import pipeline\n",
    "import torch\n",
    "\n",
    "#load the pipeline  model\n",
    "classifier= pipeline(\"sentiment-analysis\",\n",
    "                    model=\"distilbert/distilbert-base-uncased-finetuned-sst-2-english\",\n",
    "                    framework=\"pt\", revision=\"main\" )\n",
    "\n",
    "#sentences to classify\n",
    "\n",
    "sentences= [\n",
    "    \"I'm super excited, I wrote the first chapter of my book\"\n",
    "     \"I love learning AI, it's so exciting!\",\n",
    "    \"This is frustrating, nothing is working!\",\n",
    "    \"The food was amazing and the service was great.\",\n",
    "    \"I'm not sure how I feel about this project.\",\n",
    "    \"That movie was a complete waste of time.\"\n",
    "]\n",
    "\n",
    "results= classifier(sentences)\n",
    "\n",
    "for text, result in zip(sentences,results):\n",
    "    print(f\"Sentences: {text}\")\n",
    "    print(f\"Results: {result}\")\n",
    "    print(\"-\" * 50)\n",
    "\n",
    "#load the summarizer pipeline\n",
    "summarizer= pipeline(\"summarization\",\n",
    "                    model=\"sshleifer/distilbart-cnn-12-6\")\n",
    "\n",
    "article= article = \"\"\"\n",
    "Artificial intelligence is transforming industries worldwide.,\n",
    "From healthcare to finance, AI systems are improving efficiency, \n",
    "reducing costs, and enabling new possibilities. \n",
    "However, challenges remain, including ethical concerns, \n",
    "bias in algorithms, and the need for transparent systems. \n",
    "Experts believe that while AI will not replace humans entirely, \n",
    "it will redefine the future of work.\n",
    "\"\"\"\n",
    "\n",
    "\n",
    "summary= summarizer(article, max_length= 50, min_length= 20, do_sample=False)\n",
    "print(\"Original: \", article)\n",
    "print(\"Summary: \", summary[0]['summary_text'])\n",
    "\n",
    "\n",
    "ner = pipeline(\"ner\", model=\"dslim/bert-base-NER\", aggregation_strategy=\"simple\")\n",
    "sentence = \"Elon Musk founded SpaceX in California and also runs Tesla in the United States.\"\n",
    "entities = ner(sentence)\n",
    "\n",
    "print(\"Sentence:\", sentence)\n",
    "print(\"Entities:\", entities)\n",
    "\n",
    "\n",
    "\n",
    "    \n",
    "\n"
   ]
  },
  {
   "cell_type": "code",
   "execution_count": null,
   "id": "321091d9-e516-47a9-a3f2-572732693f04",
   "metadata": {},
   "outputs": [],
   "source": []
  }
 ],
 "metadata": {
  "kernelspec": {
   "display_name": "Python 3 (ipykernel)",
   "language": "python",
   "name": "python3"
  },
  "language_info": {
   "codemirror_mode": {
    "name": "ipython",
    "version": 3
   },
   "file_extension": ".py",
   "mimetype": "text/x-python",
   "name": "python",
   "nbconvert_exporter": "python",
   "pygments_lexer": "ipython3",
   "version": "3.11.3"
  }
 },
 "nbformat": 4,
 "nbformat_minor": 5
}
